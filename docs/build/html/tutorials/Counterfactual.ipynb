{
 "cells": [
  {
   "cell_type": "markdown",
   "id": "08ee5d55",
   "metadata": {},
   "source": [
    "# Counterfactual Prediction with DeepDive\n",
    "\n",
    "This tutorial demonstrates how to use **DeepDive** for counterfactual prediction in single-cell ATAC-seq data. Specifically, we show how to predict what chromatin accessibility profiles of a held-out cell type (Hepatoblasts) would look like if they had been observed in a particular donor sample.  \n",
    "\n"
   ]
  },
  {
   "cell_type": "code",
   "execution_count": 1,
   "id": "a0c18430",
   "metadata": {},
   "outputs": [],
   "source": [
    "import scanpy as sc\n",
    "import DeepDive\n",
    "import seaborn as sns\n",
    "import matplotlib.pyplot as plt\n",
    "import numpy as np"
   ]
  },
  {
   "cell_type": "code",
   "execution_count": 2,
   "id": "52504f42",
   "metadata": {},
   "outputs": [],
   "source": [
    "from utils import reads_to_fragments, rsquared"
   ]
  },
  {
   "cell_type": "markdown",
   "id": "17bf0faf",
   "metadata": {},
   "source": [
    "## 1. Load and preprocess the dataset\n",
    "We start with an `AnnData` object containing single-cell chromatin accessibility profiles. Here we use the liver [sciATAC-seq3](https://doi.org/10.1126/science.aba7612) dataset (`sciatac3_liver_10k.h5ad`), subset from the full dataset (dataset and preprocessing better described in the `training.ipynb` notebook)."
   ]
  },
  {
   "cell_type": "code",
   "execution_count": 3,
   "id": "729b4b41",
   "metadata": {},
   "outputs": [],
   "source": [
    "adata = sc.read_h5ad('data/sciatac3_liver_10k.h5ad')\n",
    "\n",
    "# Filter genes detected in fewer than 1% of cells\n",
    "min_cells = int(adata.shape[0] * 0.01)\n",
    "sc.pp.filter_genes(adata, min_cells=min_cells)\n",
    "\n",
    "# Ensure unique cell IDs\n",
    "adata.obs_names_make_unique()\n",
    "\n",
    "# Convert raw reads into fragments\n",
    "reads_to_fragments(adata)\n",
    "adata.X = adata.layers['fragments']"
   ]
  },
  {
   "cell_type": "markdown",
   "id": "58c5d265",
   "metadata": {},
   "source": [
    "## 2. Create a held-out dataset for counterfactual prediction\n",
    "\n",
    "We hold out **Hepatoblast cells** from one donor (**sample_7_liver**) to use as ground truth for evaluating counterfactual predictions."
   ]
  },
  {
   "cell_type": "code",
   "execution_count": 4,
   "id": "e100d238",
   "metadata": {},
   "outputs": [],
   "source": [
    "adata_ho = adata[(adata.obs['cell_type'].astype(str) == 'Hepatoblasts') & (adata.obs['sample_name'].astype(str) == 'sample_7_liver')].copy()\n",
    "adata = adata[~adata.obs_names.isin(adata_ho.obs_names)]\n"
   ]
  },
  {
   "cell_type": "markdown",
   "id": "ddef8610",
   "metadata": {},
   "source": [
    "## 3. Define model and training parameters\n",
    "\n",
    "We specify model hyperparameters and training settings."
   ]
  },
  {
   "cell_type": "code",
   "execution_count": 5,
   "id": "de76bfe9",
   "metadata": {},
   "outputs": [],
   "source": [
    "n_decoders = 5  \n",
    "model_params = {\n",
    "    'n_epochs_pretrain_ae' : 200*n_decoders,\n",
    "    'n_decoders' : n_decoders,\n",
    "}\n",
    "train_params = {\n",
    "    'max_epoch' : 300*n_decoders, \n",
    "    'batch_size' : 1024, \n",
    "    'shuffle' : True\n",
    "}"
   ]
  },
  {
   "cell_type": "code",
   "execution_count": 6,
   "id": "2441a7ec",
   "metadata": {},
   "outputs": [],
   "source": [
    "discrete_covriate_keys = ['sample_name', 'sex', 'batch', 'cell_type']\n",
    "continuous_covriate_keys = ['day_of_pregnancy']"
   ]
  },
  {
   "cell_type": "markdown",
   "id": "00c0ee3b",
   "metadata": {},
   "source": [
    "## 5. Train DeepDive\n",
    "\n",
    "We initialize and train the model using the training dataset."
   ]
  },
  {
   "cell_type": "code",
   "execution_count": 7,
   "id": "e242c4a9",
   "metadata": {},
   "outputs": [],
   "source": [
    "model = DeepDive.DeepDive(adata = adata, \n",
    "                        discrete_covariate_names = discrete_covriate_keys,\n",
    "                        continuous_covariate_names = continuous_covriate_keys, \n",
    "                        **model_params\n",
    "                       )"
   ]
  },
  {
   "cell_type": "code",
   "execution_count": 8,
   "id": "12c4ece0",
   "metadata": {},
   "outputs": [
    {
     "name": "stderr",
     "output_type": "stream",
     "text": [
      "Epoch Train [1500 / 1500]: 100%|██████████| 10/10 [00:00<00:00, 11.20it/s, ETA=01d:00h:20:m53s|01d:00h:20:m53s, kl_loss=1.7, recon_loss=3.2e+3]  \n"
     ]
    }
   ],
   "source": [
    "model.train_model(adata, None, \n",
    "                  **train_params)"
   ]
  },
  {
   "cell_type": "code",
   "execution_count": 9,
   "id": "8326d4b4",
   "metadata": {},
   "outputs": [
    {
     "name": "stdout",
     "output_type": "stream",
     "text": [
      "DeepDIVE model saved at: model\n"
     ]
    }
   ],
   "source": [
    "model.save('model')"
   ]
  },
  {
   "cell_type": "markdown",
   "id": "6ea6b305",
   "metadata": {},
   "source": [
    "## 6. Reload the trained model\n",
    "\n",
    "We reload the model for downstream prediction."
   ]
  },
  {
   "cell_type": "code",
   "execution_count": 10,
   "id": "3278d5b2",
   "metadata": {},
   "outputs": [],
   "source": [
    "model = DeepDive.DeepDive(adata = adata, \n",
    "                        discrete_covariate_names = discrete_covriate_keys,\n",
    "                        continuous_covariate_names = continuous_covriate_keys, \n",
    "                        **model_params\n",
    "                       )\n",
    "model = model.load(adata, 'model')"
   ]
  },
  {
   "cell_type": "markdown",
   "id": "68789d03",
   "metadata": {},
   "source": [
    "## 7. Compute ground truth average profile\n",
    "\n",
    "We normalize the held-out dataset (`adata_ho`) and compute its average accessibility profile."
   ]
  },
  {
   "cell_type": "code",
   "execution_count": 11,
   "id": "3b827284",
   "metadata": {},
   "outputs": [],
   "source": [
    "sc.pp.normalize_total(adata_ho, target_sum = 10_000)"
   ]
  },
  {
   "cell_type": "code",
   "execution_count": 12,
   "id": "60da5c12",
   "metadata": {},
   "outputs": [],
   "source": [
    "mean_ho = adata_ho.to_df().mean()"
   ]
  },
  {
   "cell_type": "markdown",
   "id": "aaa646e4",
   "metadata": {},
   "source": [
    "## 8. Predict counterfactuals\n",
    "\n",
    "We compare three profiles:\n",
    "\n",
    "- Ground truth (Hepatoblasts from `sample_7`)\n",
    "\n",
    "- Observed average (all other cell types from `sample_7`)\n",
    "\n",
    "- Counterfactual prediction (Hepatoblasts predicted by DeepDive in `sample_7`)"
   ]
  },
  {
   "cell_type": "code",
   "execution_count": 13,
   "id": "eb7f62e7",
   "metadata": {},
   "outputs": [],
   "source": [
    "# Observed sample 7 (excluding Hepatoblasts)\n",
    "sample_7 = adata[adata.obs['sample_name'].astype(str) == 'sample_7_liver'].copy()\n",
    "rec = model.predict(sample_7, library_size=10_000)\n",
    "mean_no = rec.to_df().mean()\n",
    "\n",
    "# Counterfactual prediction: force cell_type = Hepatoblasts\n",
    "sample_7.obs['ct_org'] = sample_7.obs['cell_type'].copy()\n",
    "sample_7.obs['cell_type'] = 'Hepatoblasts'\n",
    "rec = model.predict(sample_7, library_size=10_000)\n",
    "mean_cf = rec.to_df().mean()\n"
   ]
  },
  {
   "cell_type": "markdown",
   "id": "8840c34a",
   "metadata": {},
   "source": [
    "## 9. Evaluate counterfactual prediction\n",
    "\n",
    "We compare the counterfactual predictions against the ground truth and the observed average using scatter plots and R² scores."
   ]
  },
  {
   "cell_type": "code",
   "execution_count": 14,
   "id": "93036c58",
   "metadata": {},
   "outputs": [
    {
     "data": {
      "text/plain": [
       "Text(0, 0.5, 'All cell average')"
      ]
     },
     "execution_count": 14,
     "metadata": {},
     "output_type": "execute_result"
    },
    {
     "data": {
      "image/png": "[encoded data removed]",
      "text/plain": [
       "<Figure size 200x200 with 1 Axes>"
      ]
     },
     "metadata": {},
     "output_type": "display_data"
    },
    {
     "data": {
      "image/png": "[encoded data removed]",
      "text/plain": [
       "<Figure size 200x200 with 1 Axes>"
      ]
     },
     "metadata": {},
     "output_type": "display_data"
    }
   ],
   "source": [
    "# Counterfactual vs Ground truth\n",
    "plt.subplots(figsize=(2,2))\n",
    "sns.scatterplot(x=mean_ho, y=mean_cf, s=10, edgecolor='k')\n",
    "plt.text(x=0.1, y=5, s=f\"R2={round(rsquared(mean_ho, mean_cf), 2)}\")\n",
    "plt.xlabel('Ground truth')\n",
    "plt.ylabel('Counterfactual')\n",
    "\n",
    "# Counterfactual vs All-cell average\n",
    "plt.subplots(figsize=(2,2))\n",
    "sns.scatterplot(x=mean_no, y=mean_cf, s=10, edgecolor='k')\n",
    "plt.text(x=0.1, y=5, s=f\"R2={round(rsquared(mean_no, mean_cf), 2)}\")\n",
    "plt.xlabel('Ground truth')\n",
    "plt.ylabel('All cell average')"
   ]
  },
  {
   "cell_type": "markdown",
   "id": "15f4dfa7",
   "metadata": {},
   "source": [
    "## Summary\n",
    "\n",
    "In this tutorial, we:\n",
    "\n",
    "- Preprocessed an ATAC-seq dataset\n",
    "\n",
    "- Held out Hepatoblast cells from one donor\n",
    "\n",
    "- Trained `DeepDive` to disentangle covariates\n",
    "\n",
    "- Predicted counterfactual accessibility profiles\n",
    "\n",
    "- Compared predictions to ground truth and donor-wide averages\n",
    "\n",
    "This demonstrates how DeepDive can be used for counterfactual prediction to study the regulatory landscape of unobserved cell–donor combinations."
   ]
  },
  {
   "cell_type": "code",
   "execution_count": null,
   "id": "0be1bfaa",
   "metadata": {},
   "outputs": [],
   "source": []
  }
 ],
 "metadata": {
  "kernelspec": {
   "display_name": "Python 3 (ipykernel)",
   "language": "python",
   "name": "python3"
  },
  "language_info": {
   "codemirror_mode": {
    "name": "ipython",
    "version": 3
   },
   "file_extension": ".py",
   "mimetype": "text/x-python",
   "name": "python",
   "nbconvert_exporter": "python",
   "pygments_lexer": "ipython3",
   "version": "3.10.12"
  }
 },
 "nbformat": 4,
 "nbformat_minor": 5
}
