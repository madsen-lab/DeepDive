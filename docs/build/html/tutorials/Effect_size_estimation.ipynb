{
 "cells": [
  {
   "cell_type": "markdown",
   "id": "4e40f0ca",
   "metadata": {},
   "source": [
    "# Estimating effect sizes with a DeepDive Model\n",
    "\n",
    "This tutorial demonstrates how to estimate effect sizes with a **DeepDive** model on single-cell ATAC-seq data.\n",
    "\n",
    "---"
   ]
  },
  {
   "cell_type": "markdown",
   "id": "dc1f5b2b",
   "metadata": {},
   "source": [
    "## Imports"
   ]
  },
  {
   "cell_type": "code",
   "execution_count": 1,
   "id": "78f340d7",
   "metadata": {},
   "outputs": [],
   "source": [
    "import scanpy as sc\n",
    "import DeepDive\n",
    "import seaborn as sns\n",
    "import numpy as np\n",
    "import matplotlib.pyplot as plt"
   ]
  },
  {
   "cell_type": "code",
   "execution_count": 2,
   "id": "2a89fbe3",
   "metadata": {},
   "outputs": [],
   "source": [
    "from utils import reads_to_fragments"
   ]
  },
  {
   "cell_type": "markdown",
   "id": "0fc47247",
   "metadata": {},
   "source": [
    "## 1. Load and preprocess the dataset\n",
    "We start with an `AnnData` object containing single-cell chromatin accessibility profiles. Here we use the liver [sciATAC-seq3](https://doi.org/10.1126/science.aba7612) dataset (`sciatac3_liver_10k.h5ad`), subset from the full dataset (dataset and preprocessing better described in the `training.ipynb` notebook)."
   ]
  },
  {
   "cell_type": "code",
   "execution_count": 3,
   "id": "b39a8e17",
   "metadata": {},
   "outputs": [],
   "source": [
    "adata = sc.read_h5ad('data/sciatac3_liver_10k.h5ad')\n",
    "\n",
    "# Filter genes detected in fewer than 1% of cells\n",
    "min_cells = int(adata.shape[0] * 0.01)\n",
    "sc.pp.filter_genes(adata, min_cells=min_cells)\n",
    "\n",
    "# Ensure unique cell IDs\n",
    "adata.obs_names_make_unique()\n",
    "\n",
    "# Convert raw reads into fragments\n",
    "reads_to_fragments(adata)\n",
    "adata.X = adata.layers['fragments']"
   ]
  },
  {
   "cell_type": "markdown",
   "id": "fce7b808",
   "metadata": {},
   "source": [
    "## 2. Define model and training parameters\n",
    "\n",
    "We specify model hyperparameters and training settings."
   ]
  },
  {
   "cell_type": "code",
   "execution_count": 4,
   "id": "cdaec79e",
   "metadata": {},
   "outputs": [],
   "source": [
    "n_decoders = 5  \n",
    "model_params = {\n",
    "    'n_epochs_pretrain_ae' : 200*n_decoders,\n",
    "    'n_decoders' : n_decoders,\n",
    "}\n",
    "train_params = {\n",
    "    'max_epoch' : 300*n_decoders, \n",
    "    'batch_size' : 1024, \n",
    "    'shuffle' : True\n",
    "}"
   ]
  },
  {
   "cell_type": "code",
   "execution_count": 5,
   "id": "06ed5564",
   "metadata": {},
   "outputs": [],
   "source": [
    "discrete_covriate_keys = ['sample_name', 'sex', 'batch', 'cell_type']\n",
    "continuous_covriate_keys = ['day_of_pregnancy']"
   ]
  },
  {
   "cell_type": "markdown",
   "id": "4cc5e903",
   "metadata": {},
   "source": [
    "## 3. Train DeepDive\n",
    "\n",
    "We initialize and train the model using the training dataset."
   ]
  },
  {
   "cell_type": "code",
   "execution_count": 6,
   "id": "33398ddd",
   "metadata": {},
   "outputs": [],
   "source": [
    "model = DeepDive.DeepDive(adata = adata, \n",
    "                        discrete_covariate_names = discrete_covriate_keys,\n",
    "                        continuous_covariate_names = continuous_covriate_keys, \n",
    "                        **model_params\n",
    "                       )"
   ]
  },
  {
   "cell_type": "code",
   "execution_count": 7,
   "id": "36679ecd",
   "metadata": {},
   "outputs": [
    {
     "name": "stderr",
     "output_type": "stream",
     "text": [
      "Epoch Train [1500 / 1500]: 100%|██████████| 10/10 [00:00<00:00, 10.10it/s, ETA=01d:00h:21:m41s|01d:00h:21:m41s, kl_loss=1.68, recon_loss=3.15e+3]\n"
     ]
    }
   ],
   "source": [
    "model.train_model(adata, None, \n",
    "                  **train_params)"
   ]
  },
  {
   "cell_type": "markdown",
   "id": "c1fc1da5",
   "metadata": {},
   "source": [
    "## 4. Compare groups\n",
    "\n",
    "The `DeepDive.compare_groups()` function identifies accessible regions that differ between two groups independent of disentangled covariates.  \n",
    "\n",
    "In this example, we compare **Hepatoblasts** and **Erythroblasts** to identify differential chromatin accessibility patterns.\n",
    "\n"
   ]
  },
  {
   "cell_type": "code",
   "execution_count": 8,
   "id": "e558c2ae",
   "metadata": {},
   "outputs": [],
   "source": [
    "da = DeepDive.compare_groups(model, adata, 'cell_type', groupA = 'Hepatoblasts', groupB = 'Erythroblasts')"
   ]
  },
  {
   "cell_type": "code",
   "execution_count": 9,
   "id": "f18e282e",
   "metadata": {},
   "outputs": [
    {
     "data": {
      "text/html": [
       "<div>\n",
       "<style scoped>\n",
       "    .dataframe tbody tr th:only-of-type {\n",
       "        vertical-align: middle;\n",
       "    }\n",
       "\n",
       "    .dataframe tbody tr th {\n",
       "        vertical-align: top;\n",
       "    }\n",
       "\n",
       "    .dataframe thead th {\n",
       "        text-align: right;\n",
       "    }\n",
       "</style>\n",
       "<table border=\"1\" class=\"dataframe\">\n",
       "  <thead>\n",
       "    <tr style=\"text-align: right;\">\n",
       "      <th></th>\n",
       "      <th>Feature</th>\n",
       "      <th>groupA</th>\n",
       "      <th>groupB</th>\n",
       "      <th>Difference</th>\n",
       "      <th>Zscore</th>\n",
       "      <th>Pvalue</th>\n",
       "      <th>FDR</th>\n",
       "    </tr>\n",
       "  </thead>\n",
       "  <tbody>\n",
       "    <tr>\n",
       "      <th>0</th>\n",
       "      <td>chr1:565561-565842</td>\n",
       "      <td>0.808578</td>\n",
       "      <td>-1.587507</td>\n",
       "      <td>2.396085</td>\n",
       "      <td>1.704382</td>\n",
       "      <td>0.006697</td>\n",
       "      <td>0.055971</td>\n",
       "    </tr>\n",
       "    <tr>\n",
       "      <th>1</th>\n",
       "      <td>chr1:569259-569557</td>\n",
       "      <td>2.841677</td>\n",
       "      <td>1.127797</td>\n",
       "      <td>1.713880</td>\n",
       "      <td>1.223938</td>\n",
       "      <td>0.128054</td>\n",
       "      <td>0.535595</td>\n",
       "    </tr>\n",
       "    <tr>\n",
       "      <th>2</th>\n",
       "      <td>chr1:569659-569951</td>\n",
       "      <td>1.822991</td>\n",
       "      <td>-0.457494</td>\n",
       "      <td>2.280485</td>\n",
       "      <td>1.626589</td>\n",
       "      <td>0.011054</td>\n",
       "      <td>0.082341</td>\n",
       "    </tr>\n",
       "    <tr>\n",
       "      <th>3</th>\n",
       "      <td>chr1:713647-714744</td>\n",
       "      <td>0.733735</td>\n",
       "      <td>0.902667</td>\n",
       "      <td>-0.168932</td>\n",
       "      <td>-0.094762</td>\n",
       "      <td>0.999939</td>\n",
       "      <td>1.000000</td>\n",
       "    </tr>\n",
       "    <tr>\n",
       "      <th>4</th>\n",
       "      <td>chr1:762075-763248</td>\n",
       "      <td>-0.183651</td>\n",
       "      <td>-0.042263</td>\n",
       "      <td>-0.141388</td>\n",
       "      <td>-0.077697</td>\n",
       "      <td>0.999797</td>\n",
       "      <td>1.000000</td>\n",
       "    </tr>\n",
       "  </tbody>\n",
       "</table>\n",
       "</div>"
      ],
      "text/plain": [
       "              Feature    groupA    groupB  Difference    Zscore    Pvalue  \\\n",
       "0  chr1:565561-565842  0.808578 -1.587507    2.396085  1.704382  0.006697   \n",
       "1  chr1:569259-569557  2.841677  1.127797    1.713880  1.223938  0.128054   \n",
       "2  chr1:569659-569951  1.822991 -0.457494    2.280485  1.626589  0.011054   \n",
       "3  chr1:713647-714744  0.733735  0.902667   -0.168932 -0.094762  0.999939   \n",
       "4  chr1:762075-763248 -0.183651 -0.042263   -0.141388 -0.077697  0.999797   \n",
       "\n",
       "        FDR  \n",
       "0  0.055971  \n",
       "1  0.535595  \n",
       "2  0.082341  \n",
       "3  1.000000  \n",
       "4  1.000000  "
      ]
     },
     "execution_count": 9,
     "metadata": {},
     "output_type": "execute_result"
    }
   ],
   "source": [
    "da.head()"
   ]
  },
  {
   "cell_type": "markdown",
   "id": "1d19675c",
   "metadata": {},
   "source": [
    "This returns a DataFrame containing:\n",
    "\n",
    "- `Difference`: Effect size between the two groups\n",
    "\n",
    "- `FDR`: False discovery rate (multiple testing–corrected p-value)\n",
    "\n",
    "We can visualize the differential results as a volcano plot."
   ]
  },
  {
   "cell_type": "code",
   "execution_count": 10,
   "id": "1ab11335",
   "metadata": {},
   "outputs": [
    {
     "data": {
      "text/plain": [
       "Text(0.5, 0, 'Effect size')"
      ]
     },
     "execution_count": 10,
     "metadata": {},
     "output_type": "execute_result"
    },
    {
     "data": {
      "image/png": "[encoded data removed]",
      "text/plain": [
       "<Figure size 200x200 with 1 Axes>"
      ]
     },
     "metadata": {},
     "output_type": "display_data"
    }
   ],
   "source": [
    "plt.subplots(figsize=(2,2))\n",
    "sns.scatterplot(\n",
    "    x=da.Difference, \n",
    "    y=-np.log10(da.FDR), \n",
    "    hue=da.FDR < 0.05, \n",
    "    edgecolor='k', \n",
    "    linewidth=0.5, \n",
    "    s=10\n",
    ")\n",
    "plt.legend([])\n",
    "plt.ylabel('-log10 FDR')\n",
    "plt.xlabel('Effect size')"
   ]
  },
  {
   "cell_type": "markdown",
   "id": "6289ea5d",
   "metadata": {},
   "source": [
    "## 5. Compare groups with covariate constraints\n",
    "\n",
    "DeepDive can also control for confounding factors by fixing certain covariates.\n",
    "For example, to compare Hepatoblasts vs Erythroblasts while holding sex = female constant:"
   ]
  },
  {
   "cell_type": "code",
   "execution_count": 11,
   "id": "7fa02fe9",
   "metadata": {},
   "outputs": [],
   "source": [
    "background = {'sex':'female'}\n",
    "da = DeepDive.compare_groups(model, adata, 'cell_type', groupA = 'Hepatoblasts', groupB = 'Erythroblasts', background = background)"
   ]
  },
  {
   "cell_type": "markdown",
   "id": "51b37b11",
   "metadata": {},
   "source": [
    "This performs the same comparison as above but within the context of a fixed background covariate —\n",
    "allowing interpretation of group differences dependent the **sex**."
   ]
  },
  {
   "cell_type": "markdown",
   "id": "09798f4a",
   "metadata": {},
   "source": [
    "## Summary\n",
    "\n",
    "- `DeepDive.compare_groups()` quantifies differential effects between categorical groups.\n",
    "\n",
    "- Supports covariate-controlled comparisons via the background argument.\n",
    "\n",
    "- Returns a feature-level DataFrame with effect sizes and FDR-adjusted p-values.\n"
   ]
  },
  {
   "cell_type": "code",
   "execution_count": null,
   "id": "e4514beb",
   "metadata": {},
   "outputs": [],
   "source": []
  }
 ],
 "metadata": {
  "kernelspec": {
   "display_name": "Python 3 (ipykernel)",
   "language": "python",
   "name": "python3"
  },
  "language_info": {
   "codemirror_mode": {
    "name": "ipython",
    "version": 3
   },
   "file_extension": ".py",
   "mimetype": "text/x-python",
   "name": "python",
   "nbconvert_exporter": "python",
   "pygments_lexer": "ipython3",
   "version": "3.10.12"
  }
 },
 "nbformat": 4,
 "nbformat_minor": 5
}
